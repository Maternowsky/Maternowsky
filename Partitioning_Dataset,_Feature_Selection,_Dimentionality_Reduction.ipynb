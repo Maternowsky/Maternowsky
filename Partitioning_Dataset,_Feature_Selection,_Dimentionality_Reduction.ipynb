{
  "nbformat": 4,
  "nbformat_minor": 0,
  "metadata": {
    "colab": {
      "provenance": [],
      "toc_visible": true,
      "authorship_tag": "ABX9TyM+kOrJqjF6VFNkEsKjazbr",
      "include_colab_link": true
    },
    "kernelspec": {
      "name": "python3",
      "display_name": "Python 3"
    },
    "language_info": {
      "name": "python"
    }
  },
  "cells": [
    {
      "cell_type": "markdown",
      "metadata": {
        "id": "view-in-github",
        "colab_type": "text"
      },
      "source": [
        "<a href=\"https://colab.research.google.com/github/Maternowsky/Maternowsky/blob/main/Partitioning_Dataset%2C_Feature_Selection%2C_Dimentionality_Reduction.ipynb\" target=\"_parent\"><img src=\"https://colab.research.google.com/assets/colab-badge.svg\" alt=\"Open In Colab\"/></a>"
      ]
    },
    {
      "cell_type": "code",
      "execution_count": 1,
      "metadata": {
        "id": "imreFCWvZsLp"
      },
      "outputs": [],
      "source": []
    },
    {
      "cell_type": "markdown",
      "source": [
        "# **Loading Wine Dataset**"
      ],
      "metadata": {
        "id": "OIme83PkaKty"
      }
    },
    {
      "cell_type": "code",
      "source": [
        "import pandas as pd\n",
        "import numpy as np\n",
        "df_wine = pd.read_csv('https://archive.ics.uci.edu/'\n",
        "                      'ml/machine-learning-databases/wine/wine.data',\n",
        "                      header=None)\n",
        "df_wine.columns=['Class label', 'Alcohol', 'Malic acid', 'Ash',\n",
        "                 'Alcalinity of ash', 'Magnesium', 'Total phenols', \n",
        "                 'Flavenoids', 'Nonfalvanoid phenols', 'Proanthocyanins',\n",
        "                 'Color intensity', 'Hue', '0D280/0D315 of diluted wines',\n",
        "                 'Proline']\n",
        "print('Class labels', np.unique(df_wine['Class label']))\n",
        "df_wine.head()"
      ],
      "metadata": {
        "colab": {
          "base_uri": "https://localhost:8080/",
          "height": 322
        },
        "id": "JqF40QLBaOi2",
        "outputId": "57cc200a-b5a8-499e-85a4-14dfdec1e6de"
      },
      "execution_count": 2,
      "outputs": [
        {
          "output_type": "stream",
          "name": "stdout",
          "text": [
            "Class labels [1 2 3]\n"
          ]
        },
        {
          "output_type": "execute_result",
          "data": {
            "text/plain": [
              "   Class label  Alcohol  Malic acid   Ash  Alcalinity of ash  Magnesium  \\\n",
              "0            1    14.23        1.71  2.43               15.6        127   \n",
              "1            1    13.20        1.78  2.14               11.2        100   \n",
              "2            1    13.16        2.36  2.67               18.6        101   \n",
              "3            1    14.37        1.95  2.50               16.8        113   \n",
              "4            1    13.24        2.59  2.87               21.0        118   \n",
              "\n",
              "   Total phenols  Flavenoids  Nonfalvanoid phenols  Proanthocyanins  \\\n",
              "0           2.80        3.06                  0.28             2.29   \n",
              "1           2.65        2.76                  0.26             1.28   \n",
              "2           2.80        3.24                  0.30             2.81   \n",
              "3           3.85        3.49                  0.24             2.18   \n",
              "4           2.80        2.69                  0.39             1.82   \n",
              "\n",
              "   Color intensity   Hue  0D280/0D315 of diluted wines  Proline  \n",
              "0             5.64  1.04                          3.92     1065  \n",
              "1             4.38  1.05                          3.40     1050  \n",
              "2             5.68  1.03                          3.17     1185  \n",
              "3             7.80  0.86                          3.45     1480  \n",
              "4             4.32  1.04                          2.93      735  "
            ],
            "text/html": [
              "\n",
              "  <div id=\"df-64e08d94-ee6e-48eb-9b67-da1a5b0289ea\">\n",
              "    <div class=\"colab-df-container\">\n",
              "      <div>\n",
              "<style scoped>\n",
              "    .dataframe tbody tr th:only-of-type {\n",
              "        vertical-align: middle;\n",
              "    }\n",
              "\n",
              "    .dataframe tbody tr th {\n",
              "        vertical-align: top;\n",
              "    }\n",
              "\n",
              "    .dataframe thead th {\n",
              "        text-align: right;\n",
              "    }\n",
              "</style>\n",
              "<table border=\"1\" class=\"dataframe\">\n",
              "  <thead>\n",
              "    <tr style=\"text-align: right;\">\n",
              "      <th></th>\n",
              "      <th>Class label</th>\n",
              "      <th>Alcohol</th>\n",
              "      <th>Malic acid</th>\n",
              "      <th>Ash</th>\n",
              "      <th>Alcalinity of ash</th>\n",
              "      <th>Magnesium</th>\n",
              "      <th>Total phenols</th>\n",
              "      <th>Flavenoids</th>\n",
              "      <th>Nonfalvanoid phenols</th>\n",
              "      <th>Proanthocyanins</th>\n",
              "      <th>Color intensity</th>\n",
              "      <th>Hue</th>\n",
              "      <th>0D280/0D315 of diluted wines</th>\n",
              "      <th>Proline</th>\n",
              "    </tr>\n",
              "  </thead>\n",
              "  <tbody>\n",
              "    <tr>\n",
              "      <th>0</th>\n",
              "      <td>1</td>\n",
              "      <td>14.23</td>\n",
              "      <td>1.71</td>\n",
              "      <td>2.43</td>\n",
              "      <td>15.6</td>\n",
              "      <td>127</td>\n",
              "      <td>2.80</td>\n",
              "      <td>3.06</td>\n",
              "      <td>0.28</td>\n",
              "      <td>2.29</td>\n",
              "      <td>5.64</td>\n",
              "      <td>1.04</td>\n",
              "      <td>3.92</td>\n",
              "      <td>1065</td>\n",
              "    </tr>\n",
              "    <tr>\n",
              "      <th>1</th>\n",
              "      <td>1</td>\n",
              "      <td>13.20</td>\n",
              "      <td>1.78</td>\n",
              "      <td>2.14</td>\n",
              "      <td>11.2</td>\n",
              "      <td>100</td>\n",
              "      <td>2.65</td>\n",
              "      <td>2.76</td>\n",
              "      <td>0.26</td>\n",
              "      <td>1.28</td>\n",
              "      <td>4.38</td>\n",
              "      <td>1.05</td>\n",
              "      <td>3.40</td>\n",
              "      <td>1050</td>\n",
              "    </tr>\n",
              "    <tr>\n",
              "      <th>2</th>\n",
              "      <td>1</td>\n",
              "      <td>13.16</td>\n",
              "      <td>2.36</td>\n",
              "      <td>2.67</td>\n",
              "      <td>18.6</td>\n",
              "      <td>101</td>\n",
              "      <td>2.80</td>\n",
              "      <td>3.24</td>\n",
              "      <td>0.30</td>\n",
              "      <td>2.81</td>\n",
              "      <td>5.68</td>\n",
              "      <td>1.03</td>\n",
              "      <td>3.17</td>\n",
              "      <td>1185</td>\n",
              "    </tr>\n",
              "    <tr>\n",
              "      <th>3</th>\n",
              "      <td>1</td>\n",
              "      <td>14.37</td>\n",
              "      <td>1.95</td>\n",
              "      <td>2.50</td>\n",
              "      <td>16.8</td>\n",
              "      <td>113</td>\n",
              "      <td>3.85</td>\n",
              "      <td>3.49</td>\n",
              "      <td>0.24</td>\n",
              "      <td>2.18</td>\n",
              "      <td>7.80</td>\n",
              "      <td>0.86</td>\n",
              "      <td>3.45</td>\n",
              "      <td>1480</td>\n",
              "    </tr>\n",
              "    <tr>\n",
              "      <th>4</th>\n",
              "      <td>1</td>\n",
              "      <td>13.24</td>\n",
              "      <td>2.59</td>\n",
              "      <td>2.87</td>\n",
              "      <td>21.0</td>\n",
              "      <td>118</td>\n",
              "      <td>2.80</td>\n",
              "      <td>2.69</td>\n",
              "      <td>0.39</td>\n",
              "      <td>1.82</td>\n",
              "      <td>4.32</td>\n",
              "      <td>1.04</td>\n",
              "      <td>2.93</td>\n",
              "      <td>735</td>\n",
              "    </tr>\n",
              "  </tbody>\n",
              "</table>\n",
              "</div>\n",
              "      <button class=\"colab-df-convert\" onclick=\"convertToInteractive('df-64e08d94-ee6e-48eb-9b67-da1a5b0289ea')\"\n",
              "              title=\"Convert this dataframe to an interactive table.\"\n",
              "              style=\"display:none;\">\n",
              "        \n",
              "  <svg xmlns=\"http://www.w3.org/2000/svg\" height=\"24px\"viewBox=\"0 0 24 24\"\n",
              "       width=\"24px\">\n",
              "    <path d=\"M0 0h24v24H0V0z\" fill=\"none\"/>\n",
              "    <path d=\"M18.56 5.44l.94 2.06.94-2.06 2.06-.94-2.06-.94-.94-2.06-.94 2.06-2.06.94zm-11 1L8.5 8.5l.94-2.06 2.06-.94-2.06-.94L8.5 2.5l-.94 2.06-2.06.94zm10 10l.94 2.06.94-2.06 2.06-.94-2.06-.94-.94-2.06-.94 2.06-2.06.94z\"/><path d=\"M17.41 7.96l-1.37-1.37c-.4-.4-.92-.59-1.43-.59-.52 0-1.04.2-1.43.59L10.3 9.45l-7.72 7.72c-.78.78-.78 2.05 0 2.83L4 21.41c.39.39.9.59 1.41.59.51 0 1.02-.2 1.41-.59l7.78-7.78 2.81-2.81c.8-.78.8-2.07 0-2.86zM5.41 20L4 18.59l7.72-7.72 1.47 1.35L5.41 20z\"/>\n",
              "  </svg>\n",
              "      </button>\n",
              "      \n",
              "  <style>\n",
              "    .colab-df-container {\n",
              "      display:flex;\n",
              "      flex-wrap:wrap;\n",
              "      gap: 12px;\n",
              "    }\n",
              "\n",
              "    .colab-df-convert {\n",
              "      background-color: #E8F0FE;\n",
              "      border: none;\n",
              "      border-radius: 50%;\n",
              "      cursor: pointer;\n",
              "      display: none;\n",
              "      fill: #1967D2;\n",
              "      height: 32px;\n",
              "      padding: 0 0 0 0;\n",
              "      width: 32px;\n",
              "    }\n",
              "\n",
              "    .colab-df-convert:hover {\n",
              "      background-color: #E2EBFA;\n",
              "      box-shadow: 0px 1px 2px rgba(60, 64, 67, 0.3), 0px 1px 3px 1px rgba(60, 64, 67, 0.15);\n",
              "      fill: #174EA6;\n",
              "    }\n",
              "\n",
              "    [theme=dark] .colab-df-convert {\n",
              "      background-color: #3B4455;\n",
              "      fill: #D2E3FC;\n",
              "    }\n",
              "\n",
              "    [theme=dark] .colab-df-convert:hover {\n",
              "      background-color: #434B5C;\n",
              "      box-shadow: 0px 1px 3px 1px rgba(0, 0, 0, 0.15);\n",
              "      filter: drop-shadow(0px 1px 2px rgba(0, 0, 0, 0.3));\n",
              "      fill: #FFFFFF;\n",
              "    }\n",
              "  </style>\n",
              "\n",
              "      <script>\n",
              "        const buttonEl =\n",
              "          document.querySelector('#df-64e08d94-ee6e-48eb-9b67-da1a5b0289ea button.colab-df-convert');\n",
              "        buttonEl.style.display =\n",
              "          google.colab.kernel.accessAllowed ? 'block' : 'none';\n",
              "\n",
              "        async function convertToInteractive(key) {\n",
              "          const element = document.querySelector('#df-64e08d94-ee6e-48eb-9b67-da1a5b0289ea');\n",
              "          const dataTable =\n",
              "            await google.colab.kernel.invokeFunction('convertToInteractive',\n",
              "                                                     [key], {});\n",
              "          if (!dataTable) return;\n",
              "\n",
              "          const docLinkHtml = 'Like what you see? Visit the ' +\n",
              "            '<a target=\"_blank\" href=https://colab.research.google.com/notebooks/data_table.ipynb>data table notebook</a>'\n",
              "            + ' to learn more about interactive tables.';\n",
              "          element.innerHTML = '';\n",
              "          dataTable['output_type'] = 'display_data';\n",
              "          await google.colab.output.renderOutput(dataTable, element);\n",
              "          const docLink = document.createElement('div');\n",
              "          docLink.innerHTML = docLinkHtml;\n",
              "          element.appendChild(docLink);\n",
              "        }\n",
              "      </script>\n",
              "    </div>\n",
              "  </div>\n",
              "  "
            ]
          },
          "metadata": {},
          "execution_count": 2
        }
      ]
    },
    {
      "cell_type": "markdown",
      "source": [
        "# **Split into Training and Test**"
      ],
      "metadata": {
        "id": "WCjRgQe0vSDC"
      }
    },
    {
      "cell_type": "code",
      "source": [
        "from sklearn.model_selection import train_test_split\n",
        "X, y = df_wine.iloc[:,1:].values, df_wine.iloc[:,0].values\n",
        "X_train, X_test, y_train, y_test =   train_test_split(X,y, \n",
        "                                                      test_size = 0.3,\n",
        "                                                      random_state = 0,\n",
        "                                                      stratify=y)\n",
        "#stratify = y ensures both training and test datasets have same class\n",
        "# proportions as the original dataset"
      ],
      "metadata": {
        "id": "pVg8xk3PvYQt"
      },
      "execution_count": 3,
      "outputs": []
    },
    {
      "cell_type": "markdown",
      "source": [
        "# **Feature Scaling**"
      ],
      "metadata": {
        "id": "NGuwz0uf0-oH"
      }
    },
    {
      "cell_type": "markdown",
      "source": [
        "## Decision trees and random forests are of the few algorithms where we dont need to worry about feature scaling"
      ],
      "metadata": {
        "id": "7semIVkr1IVI"
      }
    },
    {
      "cell_type": "markdown",
      "source": [
        "## **Two common approaches. Normalization, Standardization**"
      ],
      "metadata": {
        "id": "4kI82UkE1mT5"
      }
    },
    {
      "cell_type": "markdown",
      "source": [
        "### **min-max scaling (features to range of [0,1])**"
      ],
      "metadata": {
        "id": "PuiNSJrY2D0B"
      }
    },
    {
      "cell_type": "code",
      "source": [
        "from sklearn.preprocessing import MinMaxScaler\n",
        "mms = MinMaxScaler()\n",
        "X_train_norm = mms.fit_transform(X_train)\n",
        "X_test_norm = mms.transform(X_test)"
      ],
      "metadata": {
        "id": "X5w2CdwF1HO7"
      },
      "execution_count": 4,
      "outputs": []
    },
    {
      "cell_type": "markdown",
      "source": [
        "## **Standardization and Normalization manually**"
      ],
      "metadata": {
        "id": "phaG6BLM4Zq0"
      }
    },
    {
      "cell_type": "code",
      "source": [
        "ex = np.array([0,1,2,3,4,5])\n",
        "print('standardized: ', (ex - ex.mean()) / ex.std())"
      ],
      "metadata": {
        "colab": {
          "base_uri": "https://localhost:8080/"
        },
        "id": "ZgGr_3IJ4fU-",
        "outputId": "1cc86c94-2394-4fb0-aaf3-5cf7bc753136"
      },
      "execution_count": 5,
      "outputs": [
        {
          "output_type": "stream",
          "name": "stdout",
          "text": [
            "standardized:  [-1.46385011 -0.87831007 -0.29277002  0.29277002  0.87831007  1.46385011]\n"
          ]
        }
      ]
    },
    {
      "cell_type": "code",
      "source": [
        "print('normalized: ', (ex - ex.min())/ (ex.max() - ex.min()))"
      ],
      "metadata": {
        "colab": {
          "base_uri": "https://localhost:8080/"
        },
        "id": "5jc6zim24yXK",
        "outputId": "71eea1b9-b244-482a-fc01-5f73f5c14523"
      },
      "execution_count": 6,
      "outputs": [
        {
          "output_type": "stream",
          "name": "stdout",
          "text": [
            "normalized:  [0.  0.2 0.4 0.6 0.8 1. ]\n"
          ]
        }
      ]
    },
    {
      "cell_type": "markdown",
      "source": [
        "## **scikit learn StandardScaler**"
      ],
      "metadata": {
        "id": "clGeAU3U5VYb"
      }
    },
    {
      "cell_type": "markdown",
      "source": [
        "### **Only use once on the training data. use paramaters to transform test data or new data**"
      ],
      "metadata": {
        "id": "Ml30kkcy5dFg"
      }
    },
    {
      "cell_type": "code",
      "source": [
        "from sklearn.preprocessing import StandardScaler\n",
        "stdsc = StandardScaler()\n",
        "X_train_std = stdsc.fit_transform(X_train)\n",
        "X_test_std = stdsc.transform(X_test)"
      ],
      "metadata": {
        "id": "fLYtkb9J5ocU"
      },
      "execution_count": 7,
      "outputs": []
    },
    {
      "cell_type": "markdown",
      "source": [
        "### other methods for feature scaling from scikit-learn are RobustScaler(good for data prone to overfitting)"
      ],
      "metadata": {
        "id": "x44jsy9x6AVz"
      }
    },
    {
      "cell_type": "markdown",
      "source": [
        "## **Meaningful features - if model performs better on training than test dataset, good indicator of overfitting(high-variance)**"
      ],
      "metadata": {
        "id": "M6FOpYnL6hou"
      }
    },
    {
      "cell_type": "markdown",
      "source": [
        "### **L2 regularization - penalizing large individual weights to reduce complexity (circle shape)**"
      ],
      "metadata": {
        "id": "B24Yugsn7aYX"
      }
    },
    {
      "cell_type": "markdown",
      "source": [
        "### **L1 regularization - replace square of weights with sum of absolute values of weights, yeilds space feature vectors, most feature weights will be zero, good if many features are irrelevant (diamond shape)**"
      ],
      "metadata": {
        "id": "WfAuHqZ87mhM"
      }
    },
    {
      "cell_type": "code",
      "source": [
        "from sklearn.linear_model import LogisticRegression\n",
        "LogisticRegression(penalty = 'l1',\n",
        "                   solver = 'liblinear',\n",
        "                   multi_class = 'ovr')\n",
        "\n",
        "#in scikit-learn set penalty to 'l1' to obtain sparse solution\n",
        "#need different optimization algorithm since 'lbfgs' doesn't support l1"
      ],
      "metadata": {
        "colab": {
          "base_uri": "https://localhost:8080/",
          "height": 75
        },
        "id": "kVy9i5lzAK_E",
        "outputId": "d8a4dd13-a22f-4d91-bae3-bd30cad5262f"
      },
      "execution_count": 8,
      "outputs": [
        {
          "output_type": "execute_result",
          "data": {
            "text/plain": [
              "LogisticRegression(multi_class='ovr', penalty='l1', solver='liblinear')"
            ],
            "text/html": [
              "<style>#sk-container-id-1 {color: black;background-color: white;}#sk-container-id-1 pre{padding: 0;}#sk-container-id-1 div.sk-toggleable {background-color: white;}#sk-container-id-1 label.sk-toggleable__label {cursor: pointer;display: block;width: 100%;margin-bottom: 0;padding: 0.3em;box-sizing: border-box;text-align: center;}#sk-container-id-1 label.sk-toggleable__label-arrow:before {content: \"▸\";float: left;margin-right: 0.25em;color: #696969;}#sk-container-id-1 label.sk-toggleable__label-arrow:hover:before {color: black;}#sk-container-id-1 div.sk-estimator:hover label.sk-toggleable__label-arrow:before {color: black;}#sk-container-id-1 div.sk-toggleable__content {max-height: 0;max-width: 0;overflow: hidden;text-align: left;background-color: #f0f8ff;}#sk-container-id-1 div.sk-toggleable__content pre {margin: 0.2em;color: black;border-radius: 0.25em;background-color: #f0f8ff;}#sk-container-id-1 input.sk-toggleable__control:checked~div.sk-toggleable__content {max-height: 200px;max-width: 100%;overflow: auto;}#sk-container-id-1 input.sk-toggleable__control:checked~label.sk-toggleable__label-arrow:before {content: \"▾\";}#sk-container-id-1 div.sk-estimator input.sk-toggleable__control:checked~label.sk-toggleable__label {background-color: #d4ebff;}#sk-container-id-1 div.sk-label input.sk-toggleable__control:checked~label.sk-toggleable__label {background-color: #d4ebff;}#sk-container-id-1 input.sk-hidden--visually {border: 0;clip: rect(1px 1px 1px 1px);clip: rect(1px, 1px, 1px, 1px);height: 1px;margin: -1px;overflow: hidden;padding: 0;position: absolute;width: 1px;}#sk-container-id-1 div.sk-estimator {font-family: monospace;background-color: #f0f8ff;border: 1px dotted black;border-radius: 0.25em;box-sizing: border-box;margin-bottom: 0.5em;}#sk-container-id-1 div.sk-estimator:hover {background-color: #d4ebff;}#sk-container-id-1 div.sk-parallel-item::after {content: \"\";width: 100%;border-bottom: 1px solid gray;flex-grow: 1;}#sk-container-id-1 div.sk-label:hover label.sk-toggleable__label {background-color: #d4ebff;}#sk-container-id-1 div.sk-serial::before {content: \"\";position: absolute;border-left: 1px solid gray;box-sizing: border-box;top: 0;bottom: 0;left: 50%;z-index: 0;}#sk-container-id-1 div.sk-serial {display: flex;flex-direction: column;align-items: center;background-color: white;padding-right: 0.2em;padding-left: 0.2em;position: relative;}#sk-container-id-1 div.sk-item {position: relative;z-index: 1;}#sk-container-id-1 div.sk-parallel {display: flex;align-items: stretch;justify-content: center;background-color: white;position: relative;}#sk-container-id-1 div.sk-item::before, #sk-container-id-1 div.sk-parallel-item::before {content: \"\";position: absolute;border-left: 1px solid gray;box-sizing: border-box;top: 0;bottom: 0;left: 50%;z-index: -1;}#sk-container-id-1 div.sk-parallel-item {display: flex;flex-direction: column;z-index: 1;position: relative;background-color: white;}#sk-container-id-1 div.sk-parallel-item:first-child::after {align-self: flex-end;width: 50%;}#sk-container-id-1 div.sk-parallel-item:last-child::after {align-self: flex-start;width: 50%;}#sk-container-id-1 div.sk-parallel-item:only-child::after {width: 0;}#sk-container-id-1 div.sk-dashed-wrapped {border: 1px dashed gray;margin: 0 0.4em 0.5em 0.4em;box-sizing: border-box;padding-bottom: 0.4em;background-color: white;}#sk-container-id-1 div.sk-label label {font-family: monospace;font-weight: bold;display: inline-block;line-height: 1.2em;}#sk-container-id-1 div.sk-label-container {text-align: center;}#sk-container-id-1 div.sk-container {/* jupyter's `normalize.less` sets `[hidden] { display: none; }` but bootstrap.min.css set `[hidden] { display: none !important; }` so we also need the `!important` here to be able to override the default hidden behavior on the sphinx rendered scikit-learn.org. See: https://github.com/scikit-learn/scikit-learn/issues/21755 */display: inline-block !important;position: relative;}#sk-container-id-1 div.sk-text-repr-fallback {display: none;}</style><div id=\"sk-container-id-1\" class=\"sk-top-container\"><div class=\"sk-text-repr-fallback\"><pre>LogisticRegression(multi_class=&#x27;ovr&#x27;, penalty=&#x27;l1&#x27;, solver=&#x27;liblinear&#x27;)</pre><b>In a Jupyter environment, please rerun this cell to show the HTML representation or trust the notebook. <br />On GitHub, the HTML representation is unable to render, please try loading this page with nbviewer.org.</b></div><div class=\"sk-container\" hidden><div class=\"sk-item\"><div class=\"sk-estimator sk-toggleable\"><input class=\"sk-toggleable__control sk-hidden--visually\" id=\"sk-estimator-id-1\" type=\"checkbox\" checked><label for=\"sk-estimator-id-1\" class=\"sk-toggleable__label sk-toggleable__label-arrow\">LogisticRegression</label><div class=\"sk-toggleable__content\"><pre>LogisticRegression(multi_class=&#x27;ovr&#x27;, penalty=&#x27;l1&#x27;, solver=&#x27;liblinear&#x27;)</pre></div></div></div></div></div>"
            ]
          },
          "metadata": {},
          "execution_count": 8
        }
      ]
    },
    {
      "cell_type": "code",
      "source": [
        "lr = LogisticRegression(penalty= 'l1', C=1.0,\n",
        "                         solver = 'liblinear',\n",
        "                         multi_class = 'ovr')\n",
        "# C = 1.0 is default, can increase or decrease to adjust regularization\n",
        "lr.fit(X_train_std, y_train)\n",
        "print('Training accuracy: ',\n",
        "      lr.score(X_train_std, y_train))\n",
        "print('Test accuracy: ',\n",
        "      lr.score(X_test_std, y_test))"
      ],
      "metadata": {
        "colab": {
          "base_uri": "https://localhost:8080/"
        },
        "id": "_wPLaT3WBjvN",
        "outputId": "d661cd48-f815-4564-a54f-d0f11da2007c"
      },
      "execution_count": 9,
      "outputs": [
        {
          "output_type": "stream",
          "name": "stdout",
          "text": [
            "Training accuracy:  1.0\n",
            "Test accuracy:  1.0\n"
          ]
        }
      ]
    },
    {
      "cell_type": "code",
      "source": [
        "lr.intercept_\n",
        "#where slope crosses y?"
      ],
      "metadata": {
        "colab": {
          "base_uri": "https://localhost:8080/"
        },
        "id": "4QN9Dm61MV0t",
        "outputId": "141dad19-da4f-4dd1-b04e-f83cca6ba33c"
      },
      "execution_count": 10,
      "outputs": [
        {
          "output_type": "execute_result",
          "data": {
            "text/plain": [
              "array([-1.26347562, -1.21580705, -2.37023858])"
            ]
          },
          "metadata": {},
          "execution_count": 10
        }
      ]
    },
    {
      "cell_type": "code",
      "source": [
        "lr.coef_"
      ],
      "metadata": {
        "colab": {
          "base_uri": "https://localhost:8080/"
        },
        "id": "nGjj4oLbNFJo",
        "outputId": "6290f42c-7054-4b34-c06e-ce81d438735b"
      },
      "execution_count": 11,
      "outputs": [
        {
          "output_type": "execute_result",
          "data": {
            "text/plain": [
              "array([[ 1.24597765,  0.18076398,  0.74359891, -1.16140533,  0.        ,\n",
              "         0.        ,  1.17018492,  0.        ,  0.        ,  0.        ,\n",
              "         0.        ,  0.54691155,  2.51036873],\n",
              "       [-1.53787469, -0.38664816, -0.99545903,  0.36455847, -0.0592314 ,\n",
              "         0.        ,  0.66764892,  0.        ,  0.        , -1.93325176,\n",
              "         1.23529466,  0.        , -2.232299  ],\n",
              "       [ 0.13564196,  0.16854806,  0.3570892 ,  0.        ,  0.        ,\n",
              "         0.        , -2.43816252,  0.        ,  0.        ,  1.56371346,\n",
              "        -0.81872934, -0.49248809,  0.        ]])"
            ]
          },
          "metadata": {},
          "execution_count": 11
        }
      ]
    },
    {
      "cell_type": "markdown",
      "source": [
        "### [above] shows weight array, one wieght vector for each class of model consisting of 13 weights\n"
      ],
      "metadata": {
        "id": "0su-fTpWNRdT"
      }
    },
    {
      "cell_type": "markdown",
      "source": [
        "### [above] used l1  regularization above to create sparsity, but have more numbers than zeros. to create more spasity increase the C paramater and will get more zeros."
      ],
      "metadata": {
        "id": "hG-jdlJXN8Ce"
      }
    },
    {
      "cell_type": "code",
      "source": [
        "import matplotlib.pyplot as plt\n",
        "fig = plt.figure()\n",
        "ax = plt.subplot(111)\n",
        "colors = ['blue', 'green', 'red', 'cyan', 'magenta', 'yellow',\n",
        "          'black','pink','lightgreen','lightblue','gray','indigo',\n",
        "          'orange']\n",
        "weights, params = [] , []\n",
        "for c in np.arange(-4., 6.):\n",
        "  lr = LogisticRegression(penalty = 'l1', C=10**c, solver = 'liblinear',\n",
        "                          multi_class = 'ovr', random_state = 0)\n",
        "  lr.fit(X_train_std, y_train)\n",
        "  weights.append(lr.coef_[1])\n",
        "  params.append(10**c)\n",
        "weights = np.array(weights)\n",
        "for column, color in zip(range(weights.shape[1]), colors):\n",
        "  plt.plot(params, weights[:,column],\n",
        "           label = df_wine.columns[column + 1], color = color)\n",
        "plt.axhline(0, color = 'black', linestyle = '--', linewidth = 3)\n",
        "plt.xlim([10**(-5), 10**(5)])\n",
        "plt.ylabel('Weight coefficient')\n",
        "plt.xlabel('C(inverse regularization strength)')\n",
        "plt.xscale('log')\n",
        "plt.legend(loc = 'upper left')\n",
        "ax.legend(loc='upper center', bbox_to_anchor=(1.38,1.03), ncol=1,\n",
        "          fancybox = True)\n",
        "plt.show()"
      ],
      "metadata": {
        "colab": {
          "base_uri": "https://localhost:8080/",
          "height": 327
        },
        "id": "ntl2cePlOvQh",
        "outputId": "5ff8b0aa-aa31-49ca-8290-de42d3d8c667"
      },
      "execution_count": 12,
      "outputs": [
        {
          "output_type": "display_data",
          "data": {
            "text/plain": [
              "<Figure size 640x480 with 1 Axes>"
            ],
            "image/png": "[encoded data removed]"
          },
          "metadata": {}
        }
      ]
    },
    {
      "cell_type": "markdown",
      "source": [
        "# **Diminsionality Reduction**"
      ],
      "metadata": {
        "id": "sWrGGcWVX0qg"
      }
    },
    {
      "cell_type": "markdown",
      "source": [
        "## **Feature Selections, Feature Extraction**"
      ],
      "metadata": {
        "id": "-k42xjmGX6WN"
      }
    },
    {
      "cell_type": "markdown",
      "source": [
        "## **(SBS) Sequential Backward Selection, Feature Selection**"
      ],
      "metadata": {
        "id": "1PTPrhT2YhY5"
      }
    },
    {
      "cell_type": "code",
      "source": [
        "from sys import set_coroutine_origin_tracking_depth\n",
        "from sklearn.base import clone\n",
        "from itertools import combinations\n",
        "import numpy as np\n",
        "from sklearn.metrics import accuracy_score\n",
        "from sklearn.model_selection import train_test_split\n",
        "class SBS:\n",
        "  def __init__(self, estimator, k_features, scoring = accuracy_score,\n",
        "                test_size = 0.25, random_state = 1):\n",
        "    self.scoring = scoring\n",
        "    self.estimator = clone(estimator)\n",
        "    self.k_features = k_features\n",
        "    self.test_size = test_size\n",
        "    self.random_state = random_state\n",
        "  \n",
        "  def fit(self, X, y):\n",
        "    X_train, X_test, y_train, y_test = \\\n",
        "        train_test_split(X, y, test_size=self.test_size,\n",
        "                          random_state = self.random_state)\n",
        "    dim = X_train.shape[1]\n",
        "    self.indices_ = tuple(range(dim))\n",
        "    self.subsets_ = [self.indices_]\n",
        "    score = self._calc_score(X_train, y_train, X_test, y_test,\n",
        "                             self.indices_)\n",
        "    self.scores_ = [score]\n",
        "    while dim > self.k_features:\n",
        "      scores = []\n",
        "      subsets = []\n",
        "      for p in combinations(self.indices_, r = dim - 1):\n",
        "        score = self._calc_score(X_train,y_train,X_test,y_test,p)\n",
        "        scores.append(score)\n",
        "        subsets.append(p)\n",
        "      best = np.argmax(scores)\n",
        "      self.indices_=subsets[best]\n",
        "      self.subsets_.append(self.indices_)\n",
        "      dim -= 1\n",
        "      self.scores_.append(scores[best])\n",
        "    self.k_score_ = self.scores_[-1]\n",
        "    return self\n",
        "  def transform(self, X):\n",
        "    return X[:, self.indices_]\n",
        "  def _calc_score(self, X_train, y_train,X_test,y_test,indices):\n",
        "    self.estimator.fit(X_train[:, indices], y_train)\n",
        "    y_pred = self.estimator.predict(X_test[:,indices])\n",
        "    score = self.scoring(y_test, y_pred)\n",
        "    return score\n",
        "  \n",
        "\n",
        "    "
      ],
      "metadata": {
        "id": "oCa2hdAOczHr"
      },
      "execution_count": 13,
      "outputs": []
    },
    {
      "cell_type": "markdown",
      "source": [
        "### **SBS using KNN classifier**"
      ],
      "metadata": {
        "id": "65UiHGnY8Y6z"
      }
    },
    {
      "cell_type": "code",
      "source": [
        "import matplotlib.pyplot as plt\n",
        "from sklearn.neighbors import KNeighborsClassifier\n",
        "knn = KNeighborsClassifier(n_neighbors=5)\n",
        "sbs = SBS(knn, k_features = 1)\n",
        "sbs.fit(X_train_std, y_train)"
      ],
      "metadata": {
        "colab": {
          "base_uri": "https://localhost:8080/"
        },
        "id": "YVwsvLaQ8hZX",
        "outputId": "78fe0a72-87e1-4406-8081-80978854ad51"
      },
      "execution_count": 14,
      "outputs": [
        {
          "output_type": "execute_result",
          "data": {
            "text/plain": [
              "<__main__.SBS at 0x7fdb2c190b50>"
            ]
          },
          "metadata": {},
          "execution_count": 14
        }
      ]
    },
    {
      "cell_type": "markdown",
      "source": [
        "### **Plot KNN with SBS**"
      ],
      "metadata": {
        "id": "Qp-TdWMk-Aqt"
      }
    },
    {
      "cell_type": "code",
      "source": [
        "k_feat = [len(k) for k in sbs.subsets_]\n",
        "plt.plot(k_feat, sbs.scores_, marker= 'o')\n",
        "plt.ylim([0.7, 1.02])\n",
        "plt.ylabel('Accuracy')\n",
        "plt.xlabel('Number of features')\n",
        "plt.grid()\n",
        "plt.tight_layout()\n",
        "plt.show()"
      ],
      "metadata": {
        "colab": {
          "base_uri": "https://localhost:8080/",
          "height": 486
        },
        "id": "1hsdJ8A4-ZVK",
        "outputId": "29ab0e7e-1275-4056-c723-32d6caed7e89"
      },
      "execution_count": 15,
      "outputs": [
        {
          "output_type": "display_data",
          "data": {
            "text/plain": [
              "<Figure size 640x480 with 1 Axes>"
            ],
            "image/png": "[encoded data removed]"
          },
          "metadata": {}
        }
      ]
    },
    {
      "cell_type": "markdown",
      "source": [
        "### **[above] KNN classifier improved as number of features is reduced, likely due to curse of dimensionality. 100% accuracy for k={3,7,8,9,10,11,12}**"
      ],
      "metadata": {
        "id": "Z1AYqL8yAeYl"
      }
    },
    {
      "cell_type": "markdown",
      "source": [
        "### **Checking k=3 smallest feature subset looks like**"
      ],
      "metadata": {
        "id": "jbI9GghkCGVn"
      }
    },
    {
      "cell_type": "code",
      "source": [
        "k3 = list(sbs.subsets_[10])\n",
        "print(df_wine.columns[1:][k3])\n"
      ],
      "metadata": {
        "colab": {
          "base_uri": "https://localhost:8080/"
        },
        "id": "lxW_I8Z4CNgR",
        "outputId": "6c7563fc-2989-41dc-b8dc-87ac110070bd"
      },
      "execution_count": 16,
      "outputs": [
        {
          "output_type": "stream",
          "name": "stdout",
          "text": [
            "Index(['Alcohol', 'Malic acid', '0D280/0D315 of diluted wines'], dtype='object')\n"
          ]
        }
      ]
    },
    {
      "cell_type": "markdown",
      "source": [
        "### **using KNN on original test dataset**"
      ],
      "metadata": {
        "id": "AXRAJzMCC7F5"
      }
    },
    {
      "cell_type": "code",
      "source": [
        "knn.fit(X_train_std,y_train)\n",
        "print('Training accuracy: ',\n",
        "      knn.score(X_train_std, y_train))\n",
        "print('Test accuracy: ', knn.score(X_test_std, y_test))"
      ],
      "metadata": {
        "colab": {
          "base_uri": "https://localhost:8080/"
        },
        "id": "Pox_Zi-IC_pn",
        "outputId": "0348ea2b-20cc-4145-d6cb-89b4d7c58c68"
      },
      "execution_count": 17,
      "outputs": [
        {
          "output_type": "stream",
          "name": "stdout",
          "text": [
            "Training accuracy:  0.967741935483871\n",
            "Test accuracy:  0.9629629629629629\n"
          ]
        }
      ]
    },
    {
      "cell_type": "markdown",
      "source": [
        "### **Testing KNN with 3 feature**"
      ],
      "metadata": {
        "id": "peVfdIaXDcur"
      }
    },
    {
      "cell_type": "code",
      "source": [
        "knn.fit(X_train_std[:,k3],y_train)\n",
        "print('Training accuracy: ',\n",
        "      knn.score(X_train_std[:, k3], y_train))\n",
        "print('Test accuracy: ', \n",
        "      knn.score(X_test_std[:, k3], y_test))"
      ],
      "metadata": {
        "colab": {
          "base_uri": "https://localhost:8080/"
        },
        "id": "qdWImbRKDjED",
        "outputId": "47246419-a45f-4556-ddb2-3ae8c4c01b9e"
      },
      "execution_count": 18,
      "outputs": [
        {
          "output_type": "stream",
          "name": "stdout",
          "text": [
            "Training accuracy:  0.9516129032258065\n",
            "Test accuracy:  0.9259259259259259\n"
          ]
        }
      ]
    },
    {
      "cell_type": "markdown",
      "source": [
        "### We didnt improve accuracy of model with reduced features but could be useful in computationally expensive applications in real world"
      ],
      "metadata": {
        "id": "phUBbwa4EN02"
      }
    },
    {
      "cell_type": "markdown",
      "source": [
        "# **Feature Importance with Random Forests**"
      ],
      "metadata": {
        "id": "kLsv0BLdFhhA"
      }
    },
    {
      "cell_type": "code",
      "source": [
        "from sklearn.ensemble import RandomForestClassifier\n",
        "feat_labels = df_wine.columns[1:]\n",
        "forest = RandomForestClassifier(n_estimators = 500, random_state = 1)\n",
        "forest.fit(X_train,y_train)\n",
        "importances = forest.feature_importances_\n",
        "indices = np.argsort(importances)[::-1]\n",
        "for f in range(X_train.shape[1]):\n",
        "  print(\"%2d) %-*s %f\" %(f + 1, 30, feat_labels[indices[f]],\n",
        "                         importances[indices[f]]))\n",
        "plt.title('Feature importance')\n",
        "plt.bar(range(X_train.shape[1]),\n",
        "        importances[indices],\n",
        "        align = 'center')\n",
        "plt.xticks(range(X_train.shape[1]),\n",
        "           feat_labels[indices], rotation = 90)\n",
        "plt.xlim([-1, X_train.shape[1]])\n",
        "plt.tight_layout()\n",
        "plt.show()"
      ],
      "metadata": {
        "colab": {
          "base_uri": "https://localhost:8080/",
          "height": 713
        },
        "id": "csCxhU1rVkNL",
        "outputId": "00f82bd2-95fe-4bea-9fd9-24728ac46ec0"
      },
      "execution_count": 22,
      "outputs": [
        {
          "output_type": "stream",
          "name": "stdout",
          "text": [
            " 1) Proline                        0.185453\n",
            " 2) Flavenoids                     0.174751\n",
            " 3) Color intensity                0.143920\n",
            " 4) 0D280/0D315 of diluted wines   0.136162\n",
            " 5) Alcohol                        0.118529\n",
            " 6) Hue                            0.058739\n",
            " 7) Total phenols                  0.050872\n",
            " 8) Magnesium                      0.031357\n",
            " 9) Malic acid                     0.025648\n",
            "10) Proanthocyanins                0.025570\n",
            "11) Alcalinity of ash              0.022366\n",
            "12) Nonfalvanoid phenols           0.013354\n",
            "13) Ash                            0.013279\n"
          ]
        },
        {
          "output_type": "display_data",
          "data": {
            "text/plain": [
              "<Figure size 640x480 with 1 Axes>"
            ],
            "image/png": "[encoded data removed]"
          },
          "metadata": {}
        }
      ]
    },
    {
      "cell_type": "markdown",
      "source": [
        "## **[above] two of top rated features were present in 3 feature knn. One GOTCHA worth mentioning is if two or more features are highly correlated one feature may be ranked high while the other feature might not be fully captured**"
      ],
      "metadata": {
        "id": "K_m78aNeY1Ge"
      }
    },
    {
      "cell_type": "markdown",
      "source": [
        "### **Scikit - learn also implements a SelectFromModel object that selects features based on user specified threshold after model fitting, useful if use RandomForest Classifier as feature selector in Pipeline object. we could set threshold to 0.1 to reduce dataset to 5 most important features**"
      ],
      "metadata": {
        "id": "ypG6AmUKZYtd"
      }
    },
    {
      "cell_type": "code",
      "source": [
        "from sklearn.feature_selection import SelectFromModel\n",
        "sfm = SelectFromModel(forest, threshold = 0.1, prefit=True)\n",
        "X_selected = sfm.transform(X_train)\n",
        "print('Number of features that meet this threshold',\n",
        "      'criterion:', X_selected.shape[1])\n",
        "for f in range(X_selected.shape[1]):\n",
        "  print(\"%2d) %-*s %f\" % (f + 1, 30, feat_labels[indices[f]],\n",
        "                          importances[indices[f]]))"
      ],
      "metadata": {
        "colab": {
          "base_uri": "https://localhost:8080/"
        },
        "id": "NjMKTWzyaH-b",
        "outputId": "40bbba6b-0258-4ef0-fff0-5a1ca95bf047"
      },
      "execution_count": 23,
      "outputs": [
        {
          "output_type": "stream",
          "name": "stdout",
          "text": [
            "Number of features that meet this threshold criterion: 5\n",
            " 1) Proline                        0.185453\n",
            " 2) Flavenoids                     0.174751\n",
            " 3) Color intensity                0.143920\n",
            " 4) 0D280/0D315 of diluted wines   0.136162\n",
            " 5) Alcohol                        0.118529\n"
          ]
        }
      ]
    }
  ]
}