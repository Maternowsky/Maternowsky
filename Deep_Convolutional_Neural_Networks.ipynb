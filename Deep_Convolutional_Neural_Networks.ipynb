{
  "nbformat": 4,
  "nbformat_minor": 0,
  "metadata": {
    "colab": {
      "provenance": [],
      "authorship_tag": "ABX9TyPI8y6j2baJUkiOopQWRlte",
      "include_colab_link": true
    },
    "kernelspec": {
      "name": "python3",
      "display_name": "Python 3"
    },
    "language_info": {
      "name": "python"
    }
  },
  "cells": [
    {
      "cell_type": "markdown",
      "metadata": {
        "id": "view-in-github",
        "colab_type": "text"
      },
      "source": [
        "<a href=\"https://colab.research.google.com/github/Maternowsky/Maternowsky/blob/main/Deep_Convolutional_Neural_Networks.ipynb\" target=\"_parent\"><img src=\"https://colab.research.google.com/assets/colab-badge.svg\" alt=\"Open In Colab\"/></a>"
      ]
    },
    {
      "cell_type": "code",
      "execution_count": null,
      "metadata": {
        "id": "LItRiLT4pHMU"
      },
      "outputs": [],
      "source": []
    },
    {
      "cell_type": "markdown",
      "source": [
        "# **CNN's can automatically learn the features from raw data that are most useful for a particular task. It is common to consider CNN layers as feature extractors**"
      ],
      "metadata": {
        "id": "wdFBMYB1TH6n"
      }
    },
    {
      "cell_type": "markdown",
      "source": [
        "# **learning compute convolutions in one dimension**"
      ],
      "metadata": {
        "id": "keOE60JfZeDF"
      }
    },
    {
      "cell_type": "code",
      "source": [
        "import numpy as np\n",
        "def conv1d(x, w, p=0, s=1):\n",
        "  w_rot = np.array(w[::-1])\n",
        "  x_padded = np.array(x)\n",
        "  if p > 0:\n",
        "    zero_pad = np.zeros(shape = p)\n",
        "    x_padded = np.concatenate([zero_pad, x_padded, zero_pad])\n",
        "\n",
        "  res = []\n",
        "  for i in range(0, int((len(x_padded) - len(w_rot))) + 1, s):\n",
        "    res.append(np.sum(x_padded[i:i+w_rot.shape[0]] * w_rot))\n",
        "  return np.array(res)\n",
        "\n",
        "## TESTING\n",
        "\n",
        "x = [1, 3, 2, 4, 5, 6, 1, 3]\n",
        "w = [1, 0 , 3, 1, 2]\n",
        "print('Conv1d Implementation:', conv1d(x, w, p=2, s=1))"
      ],
      "metadata": {
        "colab": {
          "base_uri": "https://localhost:8080/"
        },
        "id": "ohtzpU9nZjyE",
        "outputId": "6c57e773-ed10-42d4-9607-c5ea67b7f431"
      },
      "execution_count": 2,
      "outputs": [
        {
          "output_type": "stream",
          "name": "stdout",
          "text": [
            "Conv1d Implementation: [ 5. 14. 16. 26. 24. 34. 19. 22.]\n"
          ]
        }
      ]
    },
    {
      "cell_type": "code",
      "source": [
        "print('NumPy Results:', np.convolve(x,w, mode = 'same'))"
      ],
      "metadata": {
        "colab": {
          "base_uri": "https://localhost:8080/"
        },
        "id": "uVVBau0gazQu",
        "outputId": "12e8a173-c2b7-4231-bf8a-4d2d953185a4"
      },
      "execution_count": 3,
      "outputs": [
        {
          "output_type": "stream",
          "name": "stdout",
          "text": [
            "NumPy Results: [ 5 14 16 26 24 34 19 22]\n"
          ]
        }
      ]
    },
    {
      "cell_type": "markdown",
      "source": [
        "# **Discrete concolution in 2D**"
      ],
      "metadata": {
        "id": "sf8AyIe3bpKz"
      }
    },
    {
      "cell_type": "code",
      "source": [
        "import numpy as np\n",
        "import scipy.signal\n",
        "\n",
        "def conv2d(X, W, p=(0,0), s = (1,1)):\n",
        "  W_rot = np.array(W)[::-1, ::-1]\n",
        "  X_orig = np.array(X)\n",
        "  n1 = X_orig.shape[0] + 2*p[0]\n",
        "  n2 = X_orig.shape[1] + 2*p[1]\n",
        "  X_padded = np.zeros(shape = (n1, n2))\n",
        "  X_padded[p[0]:p[0]+X_orig.shape[0],\n",
        "           p[1]:p[1]+X_orig.shape[1]] = X_orig\n",
        "  res = []\n",
        "  for i in range(0, int((X_padded.shape[0] - W_rot.shape[0])/s[0])+1,s[0]):\n",
        "    res.append([])\n",
        "    for j in range(0, int((X_padded.shape[1] - W_rot.shape[1])/s[1])+1,s[1]):\n",
        "      X_sub = X_padded[i:i+W_rot.shape[0], j:j+W_rot.shape[1]]\n",
        "      res[-1].append(np.sum(X_sub*W_rot))\n",
        "  return (np.array(res))\n",
        "\n",
        ""
      ],
      "metadata": {
        "id": "6nlH8NPHcgMS"
      },
      "execution_count": 4,
      "outputs": []
    },
    {
      "cell_type": "code",
      "source": [
        "X = [[1,3,2,4],[5,6,1,3,],[1,2,0,2],[3,4,3,2]]\n",
        "W = [[1,0,3], [1,2,1],[0,1,1]]\n",
        "\n",
        "print('Conv2d Implementation:\\n', conv2d(X,W, p =(1,1), s=(1,1)))"
      ],
      "metadata": {
        "colab": {
          "base_uri": "https://localhost:8080/"
        },
        "id": "iAlaac69eMSk",
        "outputId": "b9f455af-c345-46c3-db39-e5ebba792f33"
      },
      "execution_count": 5,
      "outputs": [
        {
          "output_type": "stream",
          "name": "stdout",
          "text": [
            "Conv2d Implementation:\n",
            " [[11. 25. 32. 13.]\n",
            " [19. 25. 24. 13.]\n",
            " [13. 28. 25. 17.]\n",
            " [11. 17. 14.  9.]]\n"
          ]
        }
      ]
    },
    {
      "cell_type": "code",
      "source": [
        "print('SciPy Results:\\n', scipy.signal.convolve2d(X,W, mode='same'))"
      ],
      "metadata": {
        "colab": {
          "base_uri": "https://localhost:8080/"
        },
        "id": "8f0QAwz7gDgq",
        "outputId": "0d13727c-c175-4c45-8ae2-0fc0c755f13c"
      },
      "execution_count": 6,
      "outputs": [
        {
          "output_type": "stream",
          "name": "stdout",
          "text": [
            "SciPy Results:\n",
            " [[11 25 32 13]\n",
            " [19 25 24 13]\n",
            " [13 28 25 17]\n",
            " [11 17 14  9]]\n"
          ]
        }
      ]
    },
    {
      "cell_type": "markdown",
      "source": [
        "# **Subsampling layers- separate into pooling layers. Create new smaller matrix that is based on max or mean of smaller matrix. Makes more robust features less prone to noise and overfitting**"
      ],
      "metadata": {
        "id": "3OsJK6KGgnHr"
      }
    },
    {
      "cell_type": "markdown",
      "source": [
        "## **add the L2 penalty of a layer to the loss function in PyTorch**"
      ],
      "metadata": {
        "id": "_vdsIH0SSxHD"
      }
    },
    {
      "cell_type": "code",
      "source": [
        "import torch.nn as nn\n",
        "import torch\n",
        "loss_func = nn.BCELoss()\n",
        "loss = loss_func(torch.tensor([0.9]), torch.tensor([1.0]))\n",
        "l2_lambda = 0.001\n",
        "conv_layer = nn.Conv2d(in_channels = 3,\n",
        "                       out_channels = 5,\n",
        "                       kernel_size = 5\n",
        "                      )\n",
        "l2_penalty = l2_lambda * sum([(p**2).sum() for p in conv_layer.parameters()])\n",
        "loss_with_penalty = loss + l2_penalty\n",
        "linear_layer = nn.Linear(10,16)\n",
        "l2_penalty = l2_lambda*sum([(p**2).sum() for p in linear_layer.parameters()])\n",
        "loss_with_penalty= loss + l2_penalty"
      ],
      "metadata": {
        "id": "95IGPVvcTFC-"
      },
      "execution_count": 7,
      "outputs": []
    },
    {
      "cell_type": "markdown",
      "source": [
        "## **Using loss functions with two different formats. Logits or class-membership probabilities are given as inputs to the loss functions**"
      ],
      "metadata": {
        "id": "00rO4OtqezoN"
      }
    },
    {
      "cell_type": "code",
      "source": [
        "## Binary Cross-entropy\n",
        "\n",
        "logits = torch.tensor([0.8])\n",
        "probas = torch.sigmoid(logits)\n",
        "target = torch.tensor([1.0])\n",
        "bce_loss_fn = nn.BCELoss()\n",
        "bce_logits_loss_fn = nn.BCEWithLogitsLoss()\n",
        "print(f'BCE (w Probas): {bce_loss_fn(probas, target):.4f}')"
      ],
      "metadata": {
        "colab": {
          "base_uri": "https://localhost:8080/"
        },
        "id": "UbZRhcErfB14",
        "outputId": "8bfdc758-5bd2-4acd-a46b-6f4410e00d9a"
      },
      "execution_count": 8,
      "outputs": [
        {
          "output_type": "stream",
          "name": "stdout",
          "text": [
            "BCE (w Probas): 0.3711\n"
          ]
        }
      ]
    },
    {
      "cell_type": "code",
      "source": [
        "print(f'BCE (w Logits): ' f'{bce_logits_loss_fn(logits, target):.4f}')"
      ],
      "metadata": {
        "colab": {
          "base_uri": "https://localhost:8080/"
        },
        "id": "plgxk6Atfh0K",
        "outputId": "8eb327f3-b1e6-46d0-a3ef-3361b07b52d8"
      },
      "execution_count": 9,
      "outputs": [
        {
          "output_type": "stream",
          "name": "stdout",
          "text": [
            "BCE (w Logits): 0.3711\n"
          ]
        }
      ]
    },
    {
      "cell_type": "code",
      "source": [
        "## Categorical Cross-entropy\n",
        "\n",
        "logits = torch.tensor([[1.5, 0.8, 2.1]])\n",
        "probas = torch.softmax(logits, dim=1)\n",
        "target = torch.tensor([2])\n",
        "cce_loss_fn = nn.NLLLoss()\n",
        "cce_logits_loss_fn = nn.CrossEntropyLoss()\n",
        "print(f'CCE (w Logits): ' f'{cce_logits_loss_fn(logits, target):.4f}')"
      ],
      "metadata": {
        "colab": {
          "base_uri": "https://localhost:8080/"
        },
        "id": "gAx1FCPefycn",
        "outputId": "3884d67d-1154-4805-82da-52f6422305ab"
      },
      "execution_count": 10,
      "outputs": [
        {
          "output_type": "stream",
          "name": "stdout",
          "text": [
            "CCE (w Logits): 0.5996\n"
          ]
        }
      ]
    },
    {
      "cell_type": "code",
      "source": [
        "print(f'CCE (w Probas): ' f'{cce_loss_fn(torch.log(probas), target):.4f}')"
      ],
      "metadata": {
        "colab": {
          "base_uri": "https://localhost:8080/"
        },
        "id": "RomMpPYbgfOY",
        "outputId": "e703da74-3716-4336-f997-ad3e423e6fd7"
      },
      "execution_count": 11,
      "outputs": [
        {
          "output_type": "stream",
          "name": "stdout",
          "text": [
            "CCE (w Probas): 0.5996\n"
          ]
        }
      ]
    },
    {
      "cell_type": "markdown",
      "source": [
        "# **Implementing a deep CNN using PyTorch**"
      ],
      "metadata": {
        "id": "p9FZgKIgg4GY"
      }
    },
    {
      "cell_type": "markdown",
      "source": [
        "## **Because number of channels(which 1 is for grayscale images) the input tensor's dimensions with be 'batchsize' x 28 x 28 x 1. The input data will go through two convolutional layers witha  kernel size of 5 x 5. first layer has 32 output feature maps and second has 64. For convolutional kernels were using stride = 1. for pooling layers were using kernel_size = 2**"
      ],
      "metadata": {
        "id": "3CSf2uN4Iwwv"
      }
    },
    {
      "cell_type": "markdown",
      "source": [
        "# **Load and preprocessing data**"
      ],
      "metadata": {
        "id": "RI89AAzjJtpn"
      }
    },
    {
      "cell_type": "code",
      "source": [
        "import torchvision\n",
        "from torchvision import transforms\n",
        "\n",
        "image_path = './'\n",
        "transform = transforms.Compose([transforms.ToTensor()])\n",
        "mnist_dataset = torchvision.datasets.MNIST( root = image_path, train = True,\n",
        "                                           transform = transform, download = True)\n",
        "from torch.utils.data import Subset\n",
        "mnist_valid_dataset= Subset(mnist_dataset, torch.arange(10000))\n",
        "mnist_train_dataset = Subset(mnist_dataset, torch.arange(10000, len(mnist_dataset)))\n",
        "mnist_test_datset = torchvision.datasets.MNIST(root = image_path, train=False,\n",
        "                                               transform=transform, download = False)"
      ],
      "metadata": {
        "colab": {
          "base_uri": "https://localhost:8080/"
        },
        "id": "r9wpjCinJyF-",
        "outputId": "7ce90a82-cdf4-4f9f-de61-0db878ac5cae"
      },
      "execution_count": 12,
      "outputs": [
        {
          "output_type": "stream",
          "name": "stdout",
          "text": [
            "Downloading http://yann.lecun.com/exdb/mnist/train-images-idx3-ubyte.gz\n",
            "Downloading http://yann.lecun.com/exdb/mnist/train-images-idx3-ubyte.gz to ./MNIST/raw/train-images-idx3-ubyte.gz\n"
          ]
        },
        {
          "output_type": "stream",
          "name": "stderr",
          "text": [
            "100%|██████████| 9912422/9912422 [00:00<00:00, 119703650.34it/s]\n"
          ]
        },
        {
          "output_type": "stream",
          "name": "stdout",
          "text": [
            "Extracting ./MNIST/raw/train-images-idx3-ubyte.gz to ./MNIST/raw\n",
            "\n",
            "Downloading http://yann.lecun.com/exdb/mnist/train-labels-idx1-ubyte.gz\n",
            "Downloading http://yann.lecun.com/exdb/mnist/train-labels-idx1-ubyte.gz to ./MNIST/raw/train-labels-idx1-ubyte.gz\n"
          ]
        },
        {
          "output_type": "stream",
          "name": "stderr",
          "text": [
            "100%|██████████| 28881/28881 [00:00<00:00, 83772955.62it/s]\n"
          ]
        },
        {
          "output_type": "stream",
          "name": "stdout",
          "text": [
            "Extracting ./MNIST/raw/train-labels-idx1-ubyte.gz to ./MNIST/raw\n",
            "\n",
            "Downloading http://yann.lecun.com/exdb/mnist/t10k-images-idx3-ubyte.gz\n",
            "Downloading http://yann.lecun.com/exdb/mnist/t10k-images-idx3-ubyte.gz to ./MNIST/raw/t10k-images-idx3-ubyte.gz\n"
          ]
        },
        {
          "output_type": "stream",
          "name": "stderr",
          "text": [
            "100%|██████████| 1648877/1648877 [00:00<00:00, 36211320.12it/s]\n"
          ]
        },
        {
          "output_type": "stream",
          "name": "stdout",
          "text": [
            "Extracting ./MNIST/raw/t10k-images-idx3-ubyte.gz to ./MNIST/raw\n",
            "\n",
            "Downloading http://yann.lecun.com/exdb/mnist/t10k-labels-idx1-ubyte.gz\n",
            "Downloading http://yann.lecun.com/exdb/mnist/t10k-labels-idx1-ubyte.gz to ./MNIST/raw/t10k-labels-idx1-ubyte.gz\n"
          ]
        },
        {
          "output_type": "stream",
          "name": "stderr",
          "text": [
            "100%|██████████| 4542/4542 [00:00<00:00, 4363382.68it/s]\n"
          ]
        },
        {
          "output_type": "stream",
          "name": "stdout",
          "text": [
            "Extracting ./MNIST/raw/t10k-labels-idx1-ubyte.gz to ./MNIST/raw\n",
            "\n"
          ]
        }
      ]
    },
    {
      "cell_type": "markdown",
      "source": [
        "## **Construct Dataloader with batches of 64 images for training and validation set**"
      ],
      "metadata": {
        "id": "4r1f9XI5LmK3"
      }
    },
    {
      "cell_type": "code",
      "source": [
        "from torch.utils.data import DataLoader\n",
        "batch_size = 64\n",
        "torch.manual_seed(1)\n",
        "train_dl = DataLoader(mnist_train_dataset, batch_size , shuffle = True)\n",
        "valid_dl = DataLoader(mnist_valid_dataset, batch_size, shuffle = True)\n"
      ],
      "metadata": {
        "id": "quctMZUHLvbU"
      },
      "execution_count": 13,
      "outputs": []
    },
    {
      "cell_type": "markdown",
      "source": [
        "# **Implement CNN using torch.nn. Default dimension for channels is NCHW format - N is number of images in batch, C for channels, H and W for height and width**"
      ],
      "metadata": {
        "id": "8BaPjmftMj1p"
      }
    },
    {
      "cell_type": "code",
      "source": [
        "model = nn.Sequential()\n",
        "model.add_module('conv1',nn.Conv2d( in_channels = 1, out_channels = 32,\n",
        "                                   kernel_size=5, padding = 2))\n",
        "model.add_module('relu1', nn.ReLU())\n",
        "model.add_module('pool1', nn.MaxPool2d(kernel_size = 2))\n",
        "model.add_module('conv2', nn.Conv2d(in_channels=32, out_channels=64,\n",
        "                                    kernel_size=5, padding = 2))\n",
        "model.add_module('relu2', nn.ReLU())\n",
        "model.add_module('pool2', nn.MaxPool2d(kernel_size = 2))"
      ],
      "metadata": {
        "id": "yhoWUYTDOHzR"
      },
      "execution_count": 14,
      "outputs": []
    },
    {
      "cell_type": "markdown",
      "source": [
        "## **Calculating size of feature maps using PyTorch**"
      ],
      "metadata": {
        "id": "LUyw_czPQMHF"
      }
    },
    {
      "cell_type": "code",
      "source": [
        "x = torch.ones((4,1,28,28))\n",
        "model(x).shape"
      ],
      "metadata": {
        "colab": {
          "base_uri": "https://localhost:8080/"
        },
        "id": "n9U9H3HbQRR7",
        "outputId": "b0811310-fdbf-4ac2-a0e5-b9fd7af51af6"
      },
      "execution_count": 15,
      "outputs": [
        {
          "output_type": "execute_result",
          "data": {
            "text/plain": [
              "torch.Size([4, 64, 7, 7])"
            ]
          },
          "metadata": {},
          "execution_count": 15
        }
      ]
    },
    {
      "cell_type": "markdown",
      "source": [
        "### **input 4 images in the batch, 1 chanel, and image size of 28 x 28. output feature maps with 64 channels and spatial size of 7 x 7**"
      ],
      "metadata": {
        "id": "EARXlj_gQnku"
      }
    },
    {
      "cell_type": "markdown",
      "source": [
        "## **Add fully connected layer for implementing classifier on top of convolution and pooling layers. input to this layer must have rank 2, that is shape[batchsize x input_units]. Thus we flatten the output of previous layers**"
      ],
      "metadata": {
        "id": "5MEQVaJJQ60C"
      }
    },
    {
      "cell_type": "code",
      "source": [
        "model.add_module('flatten', nn.Flatten())\n",
        "x = torch.ones((4,1,28,28))\n",
        "model(x).shape"
      ],
      "metadata": {
        "colab": {
          "base_uri": "https://localhost:8080/"
        },
        "id": "blOcbfmZRPKn",
        "outputId": "7395a0f2-1a84-4d0d-a4c9-5a693f2e7e5a"
      },
      "execution_count": 16,
      "outputs": [
        {
          "output_type": "execute_result",
          "data": {
            "text/plain": [
              "torch.Size([4, 3136])"
            ]
          },
          "metadata": {},
          "execution_count": 16
        }
      ]
    },
    {
      "cell_type": "markdown",
      "source": [
        "## **add two fully connected layers with a dropout layer in between**"
      ],
      "metadata": {
        "id": "81KlHVvqRzRo"
      }
    },
    {
      "cell_type": "code",
      "source": [
        "model.add_module('fc1', nn.Linear(3136, 1024))\n",
        "model.add_module('relu3', nn.ReLU())\n",
        "model.add_module('dropout',  nn.Dropout(p = 0.5))\n",
        "model.add_module('fc2', nn.Linear(1024, 10))"
      ],
      "metadata": {
        "id": "qeSZ1VOPR4qJ"
      },
      "execution_count": 17,
      "outputs": []
    },
    {
      "cell_type": "markdown",
      "source": [
        "## **In practice, we usually use a softmax activation so probabilities sum to 1. However softmax is already used internally inside PyTorches 'CrossEntropyLoss' implementation. We will now create the loss function and optimizer for the model**"
      ],
      "metadata": {
        "id": "2PYYndIJSwUR"
      }
    },
    {
      "cell_type": "code",
      "source": [
        "loss_fn = nn.CrossEntropyLoss()\n",
        "optimizer = torch.optim.Adam(model.parameters(), lr=0.001)"
      ],
      "metadata": {
        "id": "4D-0TrWITLd-"
      },
      "execution_count": 18,
      "outputs": []
    },
    {
      "cell_type": "markdown",
      "source": [
        "### **Adam optimizer is a robust, gradient- based optimizer suited to nonconvex optimization and ML problems**"
      ],
      "metadata": {
        "id": "tXr4hJKtTaR5"
      }
    },
    {
      "cell_type": "markdown",
      "source": [
        "## **Train the model by defining the following function**"
      ],
      "metadata": {
        "id": "i4vHmNVyTrwq"
      }
    },
    {
      "cell_type": "code",
      "source": [
        "def train(model, num_epochs, train_dl, valid_dl):\n",
        "  loss_hist_train = [0] * num_epochs\n",
        "  accuracy_hist_train = [0] * num_epochs\n",
        "  loss_hist_valid = [0] * num_epochs\n",
        "  accuracy_hist_valid = [0] * num_epochs\n",
        "\n",
        "  for epoch in range(num_epochs):\n",
        "    model.train()\n",
        "    for x_batch, y_batch in train_dl:\n",
        "      pred = model(x_batch)\n",
        "      loss = loss_fn(pred, y_batch)\n",
        "      loss.backward()\n",
        "      optimizer.step()\n",
        "      optimizer.zero_grad()\n",
        "      loss_hist_train[epoch]+= loss.item()*y_batch.size(0)\n",
        "      is_correct = (torch.argmax(pred, dim=1) == y_batch).float()\n",
        "      accuracy_hist_train[epoch] += is_correct.sum()\n",
        "\n",
        "    loss_hist_train[epoch] /= len(train_dl.dataset)\n",
        "    accuracy_hist_train[epoch] /= len(train_dl.dataset)\n",
        "    model.eval()\n",
        "    with torch.no_grad():\n",
        "      for x_batch, y_batch in valid_dl:\n",
        "        pred = model(x_batch)\n",
        "        loss = loss_fn(pred, y_batch)\n",
        "        loss_hist_valid[epoch] += loss.item()*y_batch.size(0)\n",
        "        is_correct = (torch.argmax(pred, dim = 1) == y_batch).float()\n",
        "        accuracy_hist_valid[epoch] += is_correct.sum()\n",
        "\n",
        "    loss_hist_valid[epoch] /= len(valid_dl.dataset)\n",
        "    accuracy_hist_valid[epoch] /= len(valid_dl.dataset)\n",
        "\n",
        "    print(f'Epoch {epoch+1} accuracy: {accuracy_hist_train[epoch]:.4f}'\n",
        "    ' val_accuracy: ' f'{accuracy_hist_valid[epoch]:.4f}')\n",
        "  return loss_hist_train, loss_hist_valid, accuracy_hist_train, accuracy_hist_valid"
      ],
      "metadata": {
        "id": "QyOAukNaTxp8"
      },
      "execution_count": 19,
      "outputs": []
    },
    {
      "cell_type": "markdown",
      "source": [
        "### **Train CNN model and use validation dataset for monitoring learning progress**"
      ],
      "metadata": {
        "id": "9Ps5KHWkWyMi"
      }
    },
    {
      "cell_type": "code",
      "source": [
        "torch.manual_seed(1)\n",
        "num_epochs = 20\n",
        "hist = train(model, num_epochs, train_dl, valid_dl)"
      ],
      "metadata": {
        "colab": {
          "base_uri": "https://localhost:8080/"
        },
        "id": "xf5OeyKYW6-G",
        "outputId": "8691f0ec-f030-449f-853e-436a1735543e"
      },
      "execution_count": 21,
      "outputs": [
        {
          "output_type": "stream",
          "name": "stdout",
          "text": [
            "Epoch 1 accuracy: 0.9493 val_accuracy: 0.9825\n",
            "Epoch 2 accuracy: 0.9839 val_accuracy: 0.9883\n",
            "Epoch 3 accuracy: 0.9894 val_accuracy: 0.9889\n",
            "Epoch 4 accuracy: 0.9911 val_accuracy: 0.9879\n",
            "Epoch 5 accuracy: 0.9935 val_accuracy: 0.9897\n",
            "Epoch 6 accuracy: 0.9947 val_accuracy: 0.9894\n",
            "Epoch 7 accuracy: 0.9957 val_accuracy: 0.9870\n",
            "Epoch 8 accuracy: 0.9957 val_accuracy: 0.9906\n",
            "Epoch 9 accuracy: 0.9965 val_accuracy: 0.9903\n",
            "Epoch 10 accuracy: 0.9965 val_accuracy: 0.9899\n",
            "Epoch 11 accuracy: 0.9965 val_accuracy: 0.9909\n",
            "Epoch 12 accuracy: 0.9979 val_accuracy: 0.9916\n",
            "Epoch 13 accuracy: 0.9977 val_accuracy: 0.9897\n",
            "Epoch 14 accuracy: 0.9976 val_accuracy: 0.9898\n",
            "Epoch 15 accuracy: 0.9984 val_accuracy: 0.9881\n",
            "Epoch 16 accuracy: 0.9973 val_accuracy: 0.9906\n",
            "Epoch 17 accuracy: 0.9986 val_accuracy: 0.9894\n",
            "Epoch 18 accuracy: 0.9979 val_accuracy: 0.9889\n",
            "Epoch 19 accuracy: 0.9977 val_accuracy: 0.9917\n",
            "Epoch 20 accuracy: 0.9985 val_accuracy: 0.9918\n"
          ]
        }
      ]
    },
    {
      "cell_type": "markdown",
      "source": [
        "## **Visualize the learning curves**"
      ],
      "metadata": {
        "id": "BdbSBNA9jtAd"
      }
    },
    {
      "cell_type": "code",
      "source": [
        "import matplotlib.pyplot as plt\n",
        "x_arr = np.arange(len(hist[0])) +1\n",
        "fig = plt.figure(figsize = (12, 4))\n",
        "ax = fig.add_subplot(1,2,1)\n",
        "ax.plot(x_arr, hist[0], '-o', label = 'Train loss')\n",
        "ax.plot(x_arr, hist[1], '--<', label = 'Validation loss')\n",
        "ax.legend(fontsize = 15)\n",
        "ax = fig.add_subplot(1, 2, 2)\n",
        "ax.plot(x_arr, hist[2], '-o', label = 'Train acc.')\n",
        "ax.plot(x_arr, hist[3], '--<', label = 'Validation acc.')\n",
        "ax.legend(fontsize = 15)\n",
        "ax.set_xlabel('Epoch', size = 15)\n",
        "ax.set_ylabel('Accuracy', size = 15)\n",
        "plt.show()"
      ],
      "metadata": {
        "colab": {
          "base_uri": "https://localhost:8080/",
          "height": 257
        },
        "id": "g_yKJ8eQj4JK",
        "outputId": "69309578-45cb-4fcf-d603-a3b2f1854221"
      },
      "execution_count": 24,
      "outputs": [
        {
          "output_type": "display_data",
          "data": {
            "text/plain": [
              "<Figure size 1200x400 with 2 Axes>"
            ],
            "image/png": "[encoded data removed]"
          },
          "metadata": {}
        }
      ]
    },
    {
      "cell_type": "markdown",
      "source": [
        "## **Evaluate model on test dataset**"
      ],
      "metadata": {
        "id": "YtncV6HAmCkE"
      }
    },
    {
      "cell_type": "code",
      "source": [
        "pred = model(mnist_test_datset.data.unsqueeze(1)/255)\n",
        "is_correct = (torch.argmax(pred, dim=1) == mnist_test_datset.targets).float()\n",
        "print(f'Test accuracy: {is_correct.mean():.4f}')"
      ],
      "metadata": {
        "colab": {
          "base_uri": "https://localhost:8080/"
        },
        "id": "31Rz78TgmJIL",
        "outputId": "a1c425d3-7605-4861-a102-8272afce6a8f"
      },
      "execution_count": 25,
      "outputs": [
        {
          "output_type": "stream",
          "name": "stdout",
          "text": [
            "Test accuracy: 0.9925\n"
          ]
        }
      ]
    },
    {
      "cell_type": "markdown",
      "source": [
        "### **get prediction results in form of class-membership probabilities and convert them to predicted labels by using the 'torch.argmax' function. Do this for a batch of 12 examples**"
      ],
      "metadata": {
        "id": "9zX3CJFUnZaS"
      }
    },
    {
      "cell_type": "code",
      "source": [
        "\n",
        "fig = plt.figure(figsize = (12, 12))\n",
        "for i in range(30):\n",
        "  ax = fig.add_subplot(5, 6, i+1)\n",
        "  ax.set_xticks([]); ax.set_yticks([])\n",
        "  img = mnist_test_datset[i][0][0, :, :]\n",
        "  pred = model(img.unsqueeze(0).unsqueeze(1))\n",
        "  y_pred = torch.argmax(pred)\n",
        "  ax.imshow(img, cmap='gray_r')\n",
        "  ax.text(0.9, 0.1, y_pred.item(), size = 15, color = 'blue',\n",
        "          horizontalalignment = 'center',\n",
        "          verticalalignment = 'center',\n",
        "          transform = ax.transAxes)\n",
        "plt.show()"
      ],
      "metadata": {
        "colab": {
          "base_uri": "https://localhost:8080/",
          "height": 624
        },
        "id": "GBRjevqfnt6K",
        "outputId": "d86d0181-2ab2-4488-d024-4fdca3ee9946"
      },
      "execution_count": 86,
      "outputs": [
        {
          "output_type": "display_data",
          "data": {
            "text/plain": [
              "<Figure size 1200x1200 with 30 Axes>"
            ],
            "image/png": "[encoded data removed]"
          },
          "metadata": {}
        }
      ]
    },
    {
      "cell_type": "markdown",
      "source": [
        "### **Plot failure cases**"
      ],
      "metadata": {
        "id": "OkXi6L1kpJWK"
      }
    },
    {
      "cell_type": "code",
      "source": [
        "pred = model(mnist_test_datset.data.unsqueeze(1)/255)\n",
        "y_label = mnist_test_datset.targets\n",
        "y_pred = torch.argmax(pred, dim = 1)\n",
        "misclassify = []\n",
        "i = 0\n",
        "while i < len(y_label):\n",
        "  if y_label[i].item() != y_pred[i].item():\n",
        "    misclassify.append(i)\n",
        "  i += 1\n"
      ],
      "metadata": {
        "id": "hbx0l7VMWKi1"
      },
      "execution_count": 92,
      "outputs": []
    },
    {
      "cell_type": "code",
      "source": [
        "t = 0\n",
        "while t <= 20:\n",
        "  print('actual', y_label[t].item(), ' predict', y_pred[t].item(),'   t =', t)\n",
        "  t += 1"
      ],
      "metadata": {
        "colab": {
          "base_uri": "https://localhost:8080/"
        },
        "id": "zCtE1KcVoP1g",
        "outputId": "f73671c4-fd5f-409a-81db-6331623dd876"
      },
      "execution_count": 106,
      "outputs": [
        {
          "output_type": "stream",
          "name": "stdout",
          "text": [
            "actual 7  predict 7    t = 0\n",
            "actual 2  predict 2    t = 1\n",
            "actual 1  predict 1    t = 2\n",
            "actual 0  predict 0    t = 3\n",
            "actual 4  predict 4    t = 4\n",
            "actual 1  predict 1    t = 5\n",
            "actual 4  predict 4    t = 6\n",
            "actual 9  predict 9    t = 7\n",
            "actual 5  predict 5    t = 8\n",
            "actual 9  predict 9    t = 9\n",
            "actual 0  predict 0    t = 10\n",
            "actual 6  predict 6    t = 11\n",
            "actual 9  predict 9    t = 12\n",
            "actual 0  predict 0    t = 13\n",
            "actual 1  predict 1    t = 14\n",
            "actual 5  predict 5    t = 15\n",
            "actual 9  predict 9    t = 16\n",
            "actual 7  predict 7    t = 17\n",
            "actual 3  predict 3    t = 18\n",
            "actual 4  predict 4    t = 19\n",
            "actual 9  predict 9    t = 20\n"
          ]
        }
      ]
    },
    {
      "cell_type": "code",
      "source": [
        "misclassify[:20]"
      ],
      "metadata": {
        "colab": {
          "base_uri": "https://localhost:8080/"
        },
        "id": "RVgHAxQ7iqSz",
        "outputId": "852f6cc9-60fd-4508-f0c5-27143d85bf4c"
      },
      "execution_count": 107,
      "outputs": [
        {
          "output_type": "execute_result",
          "data": {
            "text/plain": [
              "[340,\n",
              " 359,\n",
              " 445,\n",
              " 449,\n",
              " 582,\n",
              " 659,\n",
              " 938,\n",
              " 1014,\n",
              " 1112,\n",
              " 1114,\n",
              " 1232,\n",
              " 1242,\n",
              " 1247,\n",
              " 1260,\n",
              " 1393,\n",
              " 1414,\n",
              " 1709,\n",
              " 1901,\n",
              " 2129,\n",
              " 2130]"
            ]
          },
          "metadata": {},
          "execution_count": 107
        }
      ]
    },
    {
      "cell_type": "code",
      "source": [
        "fig = plt.figure(figsize = (12, 4))\n",
        "for i in range(12):\n",
        "  ax = fig.add_subplot(2, 6, i+1)\n",
        "  ax.set_xticks([]); ax.set_yticks([])\n",
        "  img = mnist_test_datset[misclassify[i]][0][0, :, :]\n",
        "  pred = model(img.unsqueeze(0).unsqueeze(1))\n",
        "  y_pred = torch.argmax(pred)\n",
        "  ax.imshow(img, cmap='gray_r')\n",
        "  ax.text(0.9, 0.1, y_pred.item(), size = 15, color = 'blue',\n",
        "          horizontalalignment = 'center',\n",
        "          verticalalignment = 'center',\n",
        "          transform = ax.transAxes)\n",
        "  ax.text(0.9, 0.3, 'pred', size = 7, color = 'blue',\n",
        "          horizontalalignment = 'center',\n",
        "          verticalalignment = 'center',\n",
        "          transform = ax.transAxes)\n",
        "  ax.text(0.1, 0.1, y_label[misclassify[i]].item(), size = 15,color = 'red',\n",
        "          horizontalalignment = 'center',\n",
        "          verticalalignment = 'center',\n",
        "          transform = ax.transAxes)\n",
        "  ax.text(0.1, 0.3, 'real', size = 7,color = 'red',\n",
        "          horizontalalignment = 'center',\n",
        "          verticalalignment = 'center',\n",
        "          transform = ax.transAxes)\n",
        "plt.show()"
      ],
      "metadata": {
        "colab": {
          "base_uri": "https://localhost:8080/",
          "height": 229
        },
        "id": "ZyoT_c38pM1r",
        "outputId": "143733cd-c5c9-4ad7-fb23-81512f51b482"
      },
      "execution_count": 85,
      "outputs": [
        {
          "output_type": "display_data",
          "data": {
            "text/plain": [
              "<Figure size 1200x400 with 12 Axes>"
            ],
            "image/png": "[encoded data removed]"
          },
          "metadata": {}
        }
      ]
    }
  ]
}